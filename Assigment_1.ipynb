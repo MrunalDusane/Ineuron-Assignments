{
 "cells": [
  {
   "cell_type": "markdown",
   "metadata": {},
   "source": [
    "#### Questions and Solutions of (Python Basic)Assigment_1"
   ]
  },
  {
   "cell_type": "markdown",
   "metadata": {},
   "source": [
    "1. In the below elements which of them are values or an expression? eg:- values can be integer or string and expressions will be mathematical operators.\n",
    "\n",
    "\n",
    "\n",
    "\n",
    "\n",
    "    * \n",
    "    'hello'\n",
    "    -87.8\n",
    "    - \n",
    "    / \n",
    "    +\t\n",
    "    6\n",
    "    \n",
    "    \n",
    "    \n",
    "    Answer:\n",
    "\n",
    "    'hello',6 and -87.8 are values \n",
    "    *,-,/ and + are expressions"
   ]
  },
  {
   "cell_type": "markdown",
   "metadata": {},
   "source": [
    "2.What is the difference between string and variable?\n",
    "\n",
    "    Answer:\n",
    "\n",
    "    Variable can be of any type i.e integer,float,string,etc.\n",
    "    But string is one of the data type of python, which has several methods such as .upper(),.lower(),etc."
   ]
  },
  {
   "cell_type": "markdown",
   "metadata": {},
   "source": [
    "    3. Describe three different data types\n",
    "\n",
    "Integer: \n",
    "\n",
    "        1. The support for this datatype is same as interger set defination from mathematics class\n",
    "        2. e.g 1,7,11,etc\n",
    "        \n",
    "Float: \n",
    "\n",
    "        1. These are represented by decimal values \n",
    "        2. eg 2.1,1.0,etc\n",
    "\n",
    "String:\n",
    "\n",
    "        1. Anything which is in single or double quotes is representing the string datatype\n",
    "        2. 'amar',\"Akbar\",\"123\",\"12#23\",etc\n",
    "\n",
    "Boolean:\n",
    "\n",
    "        It has values True and False\n",
    "        \n",
    "Complex:\n",
    "\n",
    "        It is represented in below format\n",
    "        x+yj\n",
    "        \n",
    "        where x and y can be any numrical values \n",
    "        x is called real part \n",
    "        y is called imaginary part\n",
    "        j is notation"
   ]
  },
  {
   "cell_type": "markdown",
   "metadata": {},
   "source": [
    "4. What is an expression made up of? What do all expressions do?\n",
    "\n",
    "        Answer:\n",
    "\n",
    "        Expression is made up of one or many operators. Operators as in +,-,*,/,etc\n",
    "        Logical, boolean, bitwise operators can also combine to form expression\n",
    "        \n",
    "        Expression evaluates the values of the variables inside it, based on the operators present between two variables\n",
    "        e.g: x+y here x,y are variables ; + is operator ; (x+y) is an expression\n",
    "              "
   ]
  },
  {
   "cell_type": "markdown",
   "metadata": {},
   "source": [
    "5. This assignment statements, like spam = 10. What is the difference between an expression and a statement?\n",
    "\n",
    "        Answer:\n",
    "        \n",
    "        Statement - e.g:  1) x = 1+3*4-6\n",
    "                          2) for , if ,while, print...these are some common example of python statement\n",
    "                          \n",
    "        Expression - e.g:  1+3*4-6\n",
    "                            this is expression\n",
    "        \n",
    "       "
   ]
  },
  {
   "cell_type": "markdown",
   "metadata": {},
   "source": [
    "6. After running the following code, what does the variable bacon contain?\n",
    "bacon = 22\n",
    "bacon + 1\n",
    "\n",
    "        Answer: bacon will contain value 23\n",
    "         "
   ]
  },
  {
   "cell_type": "markdown",
   "metadata": {},
   "source": [
    "7. What should the values of the following two terms be?\n",
    "'spam' + 'spamspam'\n",
    "'spam' * 3\n",
    "\n",
    "        Answer: Both the terms will give value 'spamspamspam'"
   ]
  },
  {
   "cell_type": "markdown",
   "metadata": {},
   "source": [
    "8. Why is eggs a valid variable name while 100 is invalid?\n",
    "\n",
    "        Answer: Variable definition in python can't begin with digits and special characters except underscore(_)\n",
    "        Here, 100 is starting with digit , which is not supported as variable definition type.    "
   ]
  },
  {
   "cell_type": "markdown",
   "metadata": {},
   "source": [
    "9. What three functions can be used to get the integer, floating-point number, or string version of a value?\n",
    "\n",
    "        Answer:\n",
    "        We can use below functions\n",
    "            1. int(value)....will give interger version of value\n",
    "            2. float(value)....will give float version of value\n",
    "            3. str(value)....will give string version of value"
   ]
  },
  {
   "cell_type": "markdown",
   "metadata": {},
   "source": [
    "10. Why does this expression cause an error? How can you fix it?\n",
    "'I have eaten ' + 99 + ' burritos.'\n",
    "\n",
    "        Answer:\n",
    "        This expression is tryping to perform concatenation task, which can be done on only string type data.But, here in between two string 99 is given,which is an integer datatype.So this will cause an error while executing this expression.\n",
    "        \n",
    "        Solution:\n",
    "        There are two ways to solve this issue\n",
    "        1. 'I have eaten ' + '99' + ' burritos.'\n",
    "        2. 'I have eaten ' + str(99) + ' burritos.'"
   ]
  },
  {
   "cell_type": "code",
   "execution_count": null,
   "metadata": {},
   "outputs": [],
   "source": []
  }
 ],
 "metadata": {
  "kernelspec": {
   "display_name": "Python 3",
   "language": "python",
   "name": "python3"
  },
  "language_info": {
   "codemirror_mode": {
    "name": "ipython",
    "version": 3
   },
   "file_extension": ".py",
   "mimetype": "text/x-python",
   "name": "python",
   "nbconvert_exporter": "python",
   "pygments_lexer": "ipython3",
   "version": "3.8.3"
  }
 },
 "nbformat": 4,
 "nbformat_minor": 4
}
