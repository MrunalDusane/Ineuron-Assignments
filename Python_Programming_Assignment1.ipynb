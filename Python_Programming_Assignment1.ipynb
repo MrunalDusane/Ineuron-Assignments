{
 "cells": [
  {
   "cell_type": "markdown",
   "metadata": {},
   "source": [
    " 1.\tWrite a Python program to print \"Hello Python\"?"
   ]
  },
  {
   "cell_type": "code",
   "execution_count": 49,
   "metadata": {},
   "outputs": [
    {
     "name": "stdout",
     "output_type": "stream",
     "text": [
      "Hello Python\n"
     ]
    }
   ],
   "source": [
    "print(\"Hello Python\")"
   ]
  },
  {
   "cell_type": "markdown",
   "metadata": {},
   "source": [
    "2.\tWrite a Python program to do arithmetical operations addition and division.?"
   ]
  },
  {
   "cell_type": "code",
   "execution_count": 11,
   "metadata": {},
   "outputs": [
    {
     "data": {
      "text/plain": [
       "10"
      ]
     },
     "execution_count": 11,
     "metadata": {},
     "output_type": "execute_result"
    }
   ],
   "source": [
    "# Creating Function\n",
    "def add_oper(*args):\n",
    "    \"\"\"\n",
    "    This is addition operation \n",
    "    \"\"\"\n",
    "    return sum(args)  \n",
    "\n",
    "# Function Calling\n",
    "add_oper(1,2,3,4)"
   ]
  },
  {
   "cell_type": "code",
   "execution_count": 15,
   "metadata": {},
   "outputs": [
    {
     "data": {
      "text/plain": [
       "5.0"
      ]
     },
     "execution_count": 15,
     "metadata": {},
     "output_type": "execute_result"
    }
   ],
   "source": [
    "def div_oper(divident,divisor):\n",
    "    \"\"\"\n",
    "    This is the division operation\n",
    "    \"\"\"\n",
    "    if divisor != 0:\n",
    "        return divident/divisor\n",
    "    else:\n",
    "        return \"Can not divide by zero(0)\"\n",
    "\n",
    "div_oper(10,2)"
   ]
  },
  {
   "cell_type": "markdown",
   "metadata": {},
   "source": [
    "3.\tWrite a Python program to find the area of a triangle?"
   ]
  },
  {
   "cell_type": "code",
   "execution_count": 46,
   "metadata": {},
   "outputs": [
    {
     "data": {
      "text/plain": [
       "0.5"
      ]
     },
     "execution_count": 46,
     "metadata": {},
     "output_type": "execute_result"
    }
   ],
   "source": [
    "#As We know that the area of triangle is = 1/2*base*height\n",
    "def Tarea(base,height):\n",
    "    if (base and height) != 0:\n",
    "        return 0.5*base*height\n",
    "    else:\n",
    "        print(\"It doesn't seem like a triangle's dimension\")\n",
    "            \n",
    "Tarea(1,1)"
   ]
  },
  {
   "cell_type": "markdown",
   "metadata": {},
   "source": [
    "4.\tWrite a Python program to swap two variables?"
   ]
  },
  {
   "cell_type": "code",
   "execution_count": 63,
   "metadata": {},
   "outputs": [
    {
     "name": "stdout",
     "output_type": "stream",
     "text": [
      "list before swapping [0, 1]\n",
      "list after swapping [1, 0]\n"
     ]
    }
   ],
   "source": [
    "a = list(range(2))\n",
    "print(\"list before swapping\",a)\n",
    "temp = a[1]\n",
    "a[1] = a[0]\n",
    "a[0] = temp\n",
    "print(\"list after swapping\",a)"
   ]
  },
  {
   "cell_type": "markdown",
   "metadata": {},
   "source": [
    "5.\tWrite a Python program to generate a random number?"
   ]
  },
  {
   "cell_type": "code",
   "execution_count": 74,
   "metadata": {},
   "outputs": [
    {
     "name": "stdout",
     "output_type": "stream",
     "text": [
      "99\n",
      "44\n",
      "99\n",
      "13\n",
      "39\n",
      "33\n",
      "51\n",
      "61\n",
      "95\n",
      "43\n",
      "82\n",
      "50\n",
      "73\n",
      "44\n",
      "84\n",
      "52\n",
      "51\n",
      "44\n",
      "84\n",
      "64\n",
      "68\n",
      "86\n",
      "28\n",
      "100\n",
      "57\n"
     ]
    }
   ],
   "source": [
    "import random\n",
    "#random.randint(10,20)\n",
    "\n",
    "for i in range(25):\n",
    "    print(random.randint(i,100))"
   ]
  },
  {
   "cell_type": "code",
   "execution_count": null,
   "metadata": {},
   "outputs": [],
   "source": []
  },
  {
   "cell_type": "code",
   "execution_count": null,
   "metadata": {},
   "outputs": [],
   "source": []
  }
 ],
 "metadata": {
  "kernelspec": {
   "display_name": "Python 3",
   "language": "python",
   "name": "python3"
  },
  "language_info": {
   "codemirror_mode": {
    "name": "ipython",
    "version": 3
   },
   "file_extension": ".py",
   "mimetype": "text/x-python",
   "name": "python",
   "nbconvert_exporter": "python",
   "pygments_lexer": "ipython3",
   "version": "3.8.3"
  }
 },
 "nbformat": 4,
 "nbformat_minor": 4
}
